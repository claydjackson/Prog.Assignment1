{
 "cells": [
  {
   "cell_type": "markdown",
   "id": "b8c8e679",
   "metadata": {},
   "source": [
    "# CS-150-01\n",
    "\n",
    "## Getting Started with markdown"
   ]
  },
  {
   "cell_type": "markdown",
   "id": "b925c014",
   "metadata": {},
   "source": [
    "### PA1, Clay Jackson, Version 1, Spring 2023"
   ]
  },
  {
   "cell_type": "markdown",
   "id": "f42ef2a0",
   "metadata": {},
   "source": [
    "> This course will help me better understand computer prgramming languages, such as Python"
   ]
  },
  {
   "cell_type": "markdown",
   "id": "ee1619b9",
   "metadata": {},
   "source": [
    "* Module 1 - Variables and Simple Data Types\n",
    "* Module 2 - Introducing Lists, Tuples\n",
    "* Module 3 - if Statements\n",
    "* Module 4 - Dictations\n",
    "* Module 5 - While Loops\n",
    "* Module 6 - Functions\n",
    "* Module 7 - Classes\n",
    "* Module 8 - Numpy"
   ]
  },
  {
   "cell_type": "markdown",
   "id": "d8935bc4",
   "metadata": {},
   "source": [
    "1. Assignemnt 1\n",
    "2. Assignment 2\n",
    "3. Assignment 3\n",
    "4. Assignment 4\n",
    "5. Assignment 5\n",
    "6. Assignment 6\n",
    "7. Assignment 7"
   ]
  },
  {
   "cell_type": "markdown",
   "id": "40873b82",
   "metadata": {},
   "source": [
    "* **I am taking my first CS class.**\n",
    "* *I will do well in my first CS class.*"
   ]
  },
  {
   "cell_type": "markdown",
   "id": "e0ac7709",
   "metadata": {},
   "source": [
    "`This is important!`"
   ]
  },
  {
   "attachments": {},
   "cell_type": "markdown",
   "id": "eecc2d93",
   "metadata": {},
   "source": [
    "<a href=\"https://github.com/claydjackson/Prog.Assignment1\">this link</a>"
   ]
  },
  {
   "cell_type": "markdown",
   "id": "27d6c48f",
   "metadata": {},
   "source": [
    "![Mustang](data:image/jpeg;base64,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)"
   ]
  },
  {
   "cell_type": "markdown",
   "id": "0060355a",
   "metadata": {},
   "source": []
  }
 ],
 "metadata": {
  "kernelspec": {
   "display_name": "Python 3 (ipykernel)",
   "language": "python",
   "name": "python3"
  },
  "language_info": {
   "codemirror_mode": {
    "name": "ipython",
    "version": 3
   },
   "file_extension": ".py",
   "mimetype": "text/x-python",
   "name": "python",
   "nbconvert_exporter": "python",
   "pygments_lexer": "ipython3",
   "version": "3.9.13"
  }
 },
 "nbformat": 4,
 "nbformat_minor": 5
}
